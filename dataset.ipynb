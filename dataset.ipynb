{
 "cells": [
  {
   "cell_type": "code",
   "execution_count": 332,
   "metadata": {},
   "outputs": [],
   "source": [
    "from functools import reduce\n",
    "\n",
    "import os\n",
    "import jax\n",
    "import jax.numpy as jnp\n",
    "from imax import transforms\n",
    "import matplotlib.pyplot as plt\n",
    "\n",
    "from PIL import Image\n",
    "from jmd_imagescraper.core import *\n",
    "from jmd_imagescraper.imagecleaner import *\n",
    "from jax.random import PRNGKey as jkey\n",
    "from chex import Array, Shape, PRNGKey"
   ]
  },
  {
   "cell_type": "markdown",
   "metadata": {},
   "source": [
    "## Dataset Creation\n",
    "### Download galaxies from *DuckDuckGo*"
   ]
  },
  {
   "cell_type": "code",
   "execution_count": null,
   "metadata": {},
   "outputs": [],
   "source": [
    "# root = \"datasets\"\n",
    "# duckduckgo_search(root, \"galaxies\", \"spiral galaxy\", max_results=250)\n",
    "# display_image_cleaner(root)"
   ]
  },
  {
   "cell_type": "markdown",
   "metadata": {},
   "source": [
    "### Load galaxies from drive"
   ]
  },
  {
   "cell_type": "code",
   "execution_count": 8,
   "metadata": {},
   "outputs": [
    {
     "data": {
      "text/plain": [
       "(217, 64, 64, 3)"
      ]
     },
     "execution_count": 8,
     "metadata": {},
     "output_type": "execute_result"
    }
   ],
   "source": [
    "PARENT_DIR = \"datasets/galaxies_raw\"\n",
    "\n",
    "files = os.listdir(\"datasets/galaxies_raw\")\n",
    "\n",
    "load_galaxy = lambda file: jnp.array(Image.open(os.path.join(PARENT_DIR, file)).resize((64, 64)))\n",
    "\n",
    "images = jnp.array(list(map(load_galaxy, files)))\n",
    "images.shape"
   ]
  },
  {
   "cell_type": "markdown",
   "metadata": {},
   "source": [
    "### Get rid of repetitions"
   ]
  },
  {
   "cell_type": "code",
   "execution_count": 9,
   "metadata": {},
   "outputs": [],
   "source": [
    "no_images = images.shape[0]\n",
    "\n",
    "repetitions_dict = dict()\n",
    "for original_idx in range(no_images - 1):\n",
    "    for susspect_idx in range(original_idx + 1, no_images):\n",
    "        if jnp.array_equal(images[susspect_idx], images[original_idx]):\n",
    "            if original_idx in repetitions_dict.keys():\n",
    "                repetitions_dict[original_idx].append(susspect_idx)\n",
    "            else:\n",
    "                repetitions_dict[original_idx] = [susspect_idx]"
   ]
  },
  {
   "cell_type": "code",
   "execution_count": 297,
   "metadata": {},
   "outputs": [],
   "source": [
    "repetitions_set = set(reduce(lambda x, y: x + y, repetitions_dict.values(), []))\n",
    "unique_indeces = set(range(no_images)).difference(repetitions_set)\n",
    "unique_images = images[jnp.array(list(unique_indeces))]"
   ]
  },
  {
   "cell_type": "markdown",
   "metadata": {},
   "source": [
    "### Augment data"
   ]
  },
  {
   "cell_type": "code",
   "execution_count": 261,
   "metadata": {},
   "outputs": [],
   "source": [
    "def augmentat_img(img, key: PRNGKey):\n",
    "\n",
    "    key_1, key_2, key_3, key_4, key_5, key_6 = jax.random.split(key, 6)\n",
    "\n",
    "    rot = transforms.rotate(\n",
    "        rad=jax.random.uniform(key_1, minval=-jnp.pi / 8, maxval=jnp.pi / 8)\n",
    "    )\n",
    "    flip = transforms.flip(\n",
    "        jax.random.uniform(key_2) < 0.5,\n",
    "        jax.random.uniform(key_3) < 0.5\n",
    "    )\n",
    "    scale = transforms.scale(\n",
    "        jax.random.uniform(key_4, minval=1.0, maxval=1.5),\n",
    "        jax.random.uniform(key_4, minval=1.0, maxval=1.5)\n",
    "    )\n",
    "    translate = transforms.translate(\n",
    "        jax.random.uniform(key_5, minval=-8.0, maxval=8.0),\n",
    "        jax.random.uniform(key_6, minval=-8.0, maxval=8.0)\n",
    "    )\n",
    "\n",
    "    return transforms.apply_transform(img, flip @ rot @ translate @ scale, mask_value=-1)"
   ]
  },
  {
   "cell_type": "code",
   "execution_count": 300,
   "metadata": {},
   "outputs": [],
   "source": [
    "def augment_dataset(key: PRNGKey, dataset: Array, rate: Scalar, dir_path: str, label: str, ext: str = \"png\"):\n",
    "    \n",
    "    reps = int(rate // 1)\n",
    "    prob = rate % 1\n",
    "\n",
    "    key, uniform_key = jax.random.split(key)\n",
    "    augment_keys = jax.random.split(key, reps + 1)\n",
    "\n",
    "    counter = 1\n",
    "    probs = jax.random.uniform(uniform_key, shape=(dataset.shape[0],))\n",
    "    for img_idx, img in enumerate(dataset):\n",
    "\n",
    "        plt.imsave(\n",
    "            os.path.join(dir_path, f\"{label}_{counter}.{ext}\"),\n",
    "            img\n",
    "        )\n",
    "        counter += 1\n",
    "\n",
    "        for i in range(reps):\n",
    "            plt.imsave(\n",
    "                os.path.join(dir_path, f\"{label}_{counter}.{ext}\"),\n",
    "                augmentat_img(img, augment_keys[i])\n",
    "            )\n",
    "            counter += 1\n",
    "        \n",
    "        if probs[img_idx] < prob:\n",
    "            plt.imsave(\n",
    "                os.path.join(dir_path, f\"{label}_{counter}.{ext}\"),\n",
    "                augmentat_img(img, augment_keys[-1])\n",
    "            )\n",
    "            counter += 1"
   ]
  },
  {
   "cell_type": "code",
   "execution_count": null,
   "metadata": {},
   "outputs": [],
   "source": []
  }
 ],
 "metadata": {
  "kernelspec": {
   "display_name": "Python 3.10.4 ('pyncn310')",
   "language": "python",
   "name": "python3"
  },
  "language_info": {
   "codemirror_mode": {
    "name": "ipython",
    "version": 3
   },
   "file_extension": ".py",
   "mimetype": "text/x-python",
   "name": "python",
   "nbconvert_exporter": "python",
   "pygments_lexer": "ipython3",
   "version": "3.10.4"
  },
  "orig_nbformat": 4,
  "vscode": {
   "interpreter": {
    "hash": "54934a5afaccb2ddc951324a0bd74860167bceb796717f7926bef290ae4125ad"
   }
  }
 },
 "nbformat": 4,
 "nbformat_minor": 2
}
